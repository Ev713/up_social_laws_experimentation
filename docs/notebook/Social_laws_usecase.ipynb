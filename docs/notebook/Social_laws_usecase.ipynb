{
 "cells": [
  {
   "cell_type": "markdown",
   "metadata": {},
   "source": [
    "# Social Laws Use Case Demo\n",
    "\n",
    "This notebook shows a demonstration of a realistic use case for social laws. In this demo we will synthesize a social law for a multi-agent pickup and delivery problem.\n",
    "\n",
    "\n",
    "The maps will be specified as a list of strings where \n",
    "* \\* denotes an obstacle\n",
    "* a lower case letter (a-z) denotes the initial position of an agent\n",
    "* an upper case letter (A-Z) denotes the goal position of the corresponding agent\n",
    "\n"
   ]
  },
  {
   "cell_type": "code",
   "execution_count": 1,
   "metadata": {},
   "outputs": [],
   "source": [
    "small_map = [\n",
    "\"****\",\n",
    "\"*BA*\",\n",
    "\"*ab*\",\n",
    "\"****\"\n",
    "]\n",
    "\n"
   ]
  },
  {
   "cell_type": "markdown",
   "metadata": {},
   "source": [
    "We now define a function which converts the given map into a multi agent planning problem"
   ]
  },
  {
   "cell_type": "code",
   "execution_count": 2,
   "metadata": {},
   "outputs": [
    {
     "name": "stdout",
     "output_type": "stream",
     "text": [
      "problem name = MAPD\n",
      "\n",
      "types = [loc]\n",
      "\n",
      "environment fluents = [\n",
      "  bool connected[l1=loc, l2=loc]\n",
      "  bool free[l=loc]\n",
      "]\n",
      "\n",
      "agents = [\n",
      "  Agent name = a_a\n",
      "\n",
      "private fluents = [\n",
      " bool at[l1=loc]\n",
      "]\n",
      "\n",
      "public fluents = [\n",
      "]\n",
      "\n",
      "actions = [\n",
      " action move(loc l1, loc l2) {\n",
      "    preconditions = [\n",
      "      at(l1)\n",
      "      free(l2)\n",
      "      connected(l1, l2)\n",
      "    ]\n",
      "    effects = [\n",
      "      at(l2) := true\n",
      "      free(l2) := false\n",
      "      at(l1) := false\n",
      "      free(l1) := true\n",
      "    ]\n",
      "  }\n",
      "]\n",
      "\n",
      "\n",
      "  Agent name = a_b\n",
      "\n",
      "private fluents = [\n",
      " bool at[l1=loc]\n",
      "]\n",
      "\n",
      "public fluents = [\n",
      "]\n",
      "\n",
      "actions = [\n",
      " action move(loc l1, loc l2) {\n",
      "    preconditions = [\n",
      "      at(l1)\n",
      "      free(l2)\n",
      "      connected(l1, l2)\n",
      "    ]\n",
      "    effects = [\n",
      "      at(l2) := true\n",
      "      free(l2) := false\n",
      "      at(l1) := false\n",
      "      free(l1) := true\n",
      "    ]\n",
      "  }\n",
      "]\n",
      "\n",
      "\n",
      "]\n",
      "\n",
      "objects = [\n",
      "  loc: [l_0_0, l_0_1, l_0_2, l_0_3, l_1_0, l_1_1, l_1_2, l_1_3, l_2_0, l_2_1, l_2_2, l_2_3, l_3_0, l_3_1, l_3_2, l_3_3]\n",
      "]\n",
      "\n",
      "initial values = [\n",
      "  free(l_0_0) := false\n",
      "  free(l_0_1) := false\n",
      "  free(l_0_2) := false\n",
      "  free(l_0_3) := false\n",
      "  free(l_1_0) := false\n",
      "  free(l_1_3) := false\n",
      "  free(l_2_0) := false\n",
      "  a_a.at(l_2_1) := true\n",
      "  a_b.at(l_2_2) := true\n",
      "  free(l_2_3) := false\n",
      "  free(l_3_0) := false\n",
      "  free(l_3_1) := false\n",
      "  free(l_3_2) := false\n",
      "  free(l_3_3) := false\n",
      "  connected(l_0_0, l_1_0) := true\n",
      "  connected(l_0_0, l_0_1) := true\n",
      "  connected(l_0_1, l_1_1) := true\n",
      "  connected(l_0_1, l_0_0) := true\n",
      "  connected(l_0_1, l_0_2) := true\n",
      "  connected(l_0_2, l_1_2) := true\n",
      "  connected(l_0_2, l_0_1) := true\n",
      "  connected(l_0_2, l_0_3) := true\n",
      "  connected(l_0_3, l_1_3) := true\n",
      "  connected(l_0_3, l_0_2) := true\n",
      "  connected(l_1_0, l_0_0) := true\n",
      "  connected(l_1_0, l_2_0) := true\n",
      "  connected(l_1_0, l_1_1) := true\n",
      "  connected(l_1_1, l_0_1) := true\n",
      "  connected(l_1_1, l_2_1) := true\n",
      "  connected(l_1_1, l_1_0) := true\n",
      "  connected(l_1_1, l_1_2) := true\n",
      "  connected(l_1_2, l_0_2) := true\n",
      "  connected(l_1_2, l_2_2) := true\n",
      "  connected(l_1_2, l_1_1) := true\n",
      "  connected(l_1_2, l_1_3) := true\n",
      "  connected(l_1_3, l_0_3) := true\n",
      "  connected(l_1_3, l_2_3) := true\n",
      "  connected(l_1_3, l_1_2) := true\n",
      "  connected(l_2_0, l_1_0) := true\n",
      "  connected(l_2_0, l_3_0) := true\n",
      "  connected(l_2_0, l_2_1) := true\n",
      "  connected(l_2_1, l_1_1) := true\n",
      "  connected(l_2_1, l_3_1) := true\n",
      "  connected(l_2_1, l_2_0) := true\n",
      "  connected(l_2_1, l_2_2) := true\n",
      "  connected(l_2_2, l_1_2) := true\n",
      "  connected(l_2_2, l_3_2) := true\n",
      "  connected(l_2_2, l_2_1) := true\n",
      "  connected(l_2_2, l_2_3) := true\n",
      "  connected(l_2_3, l_1_3) := true\n",
      "  connected(l_2_3, l_3_3) := true\n",
      "  connected(l_2_3, l_2_2) := true\n",
      "  connected(l_3_0, l_2_0) := true\n",
      "  connected(l_3_0, l_3_1) := true\n",
      "  connected(l_3_1, l_2_1) := true\n",
      "  connected(l_3_1, l_3_0) := true\n",
      "  connected(l_3_1, l_3_2) := true\n",
      "  connected(l_3_2, l_2_2) := true\n",
      "  connected(l_3_2, l_3_1) := true\n",
      "  connected(l_3_2, l_3_3) := true\n",
      "  connected(l_3_3, l_2_3) := true\n",
      "  connected(l_3_3, l_3_2) := true\n",
      "]\n",
      "\n",
      "goals = [\n",
      "  a_b.at(l_1_1)\n",
      "  a_a.at(l_1_2)\n",
      "]\n",
      "\n",
      "\n",
      "waitfor: {}\n"
     ]
    }
   ],
   "source": [
    "from unified_planning.shortcuts import *\n",
    "from up_social_laws.ma_problem_waitfor import MultiAgentProblemWithWaitfor\n",
    "from unified_planning.model.multi_agent import *\n",
    "import string\n",
    "up.environment.get_environment().credits_stream = None\n",
    "\n",
    "\n",
    "def mapToMaProblem(map):\n",
    "    problem = MultiAgentProblemWithWaitfor(\"MAPD\")\n",
    "\n",
    "    loc = UserType(\"loc\")\n",
    "    \n",
    "    # Environment     \n",
    "    connected = Fluent('connected', BoolType(), l1=loc, l2=loc)        \n",
    "    problem.ma_environment.add_fluent(connected, default_initial_value=False)\n",
    "\n",
    "    free = Fluent('free', BoolType(), l=loc)\n",
    "    problem.ma_environment.add_fluent(free, default_initial_value=True)\n",
    "\n",
    "\n",
    "\n",
    "\n",
    "    # Agents\n",
    "    at = Fluent('at', BoolType(), l1=loc)\n",
    "\n",
    "    move = InstantaneousAction('move', l1=loc, l2=loc)\n",
    "    l1 = move.parameter('l1')\n",
    "    l2 = move.parameter('l2')\n",
    "    move.add_precondition(at(l1))\n",
    "    move.add_precondition(free(l2))\n",
    "    move.add_precondition(connected(l1,l2))\n",
    "    move.add_effect(at(l2),True)\n",
    "    move.add_effect(free(l2), False)\n",
    "    move.add_effect(at(l1), False)\n",
    "    move.add_effect(free(l1), True)    \n",
    "\n",
    "\n",
    "    locmap = {}\n",
    "\n",
    "    for i,line in enumerate(map):\n",
    "        for j,cell in enumerate(line):\n",
    "            locname = \"l_\" + str(i) + \"_\" + str(j)\n",
    "            locobj = Object(locname, loc)\n",
    "            problem.add_object(locobj)\n",
    "            locmap[i,j] = locobj\n",
    "            if cell == \"*\":\n",
    "                problem.set_initial_value(free(locobj), False)\n",
    "            elif cell in string.ascii_lowercase:\n",
    "                agentname = \"a_\" + cell\n",
    "                agent = Agent(agentname, problem)\n",
    "                problem.add_agent(agent)\n",
    "                agent.add_fluent(at, default_initial_value=False)\n",
    "                agent.add_action(move)\n",
    "                problem.set_initial_value(Dot(agent, at(locobj)), True)\n",
    "    \n",
    "    for i,line in enumerate(map):\n",
    "        for j,cell in enumerate(line):\n",
    "            if cell in string.ascii_uppercase:\n",
    "                agentname = \"a_\" + cell.lower()\n",
    "                locobj = locmap[i,j]\n",
    "                agent = problem.agent(agentname)\n",
    "                problem.add_goal(Dot(agent, at(locobj)))\n",
    "\n",
    "\n",
    "    for i,j in locmap.keys():\n",
    "        for dx,dy in [(-1,0),(+1,0),(0,-1),(0,+1)]:\n",
    "            if (i+dx, j+dy) in locmap.keys():        \n",
    "                problem.set_initial_value(connected(locmap[i,j], locmap[i+dx,j+dy]), True)        \n",
    "\n",
    "    return problem\n",
    "\n",
    "\n",
    "problem = mapToMaProblem(small_map)\n",
    "print(problem)\n",
    "\n",
    "\n"
   ]
  },
  {
   "cell_type": "markdown",
   "metadata": {},
   "source": [
    "## We can now synthesize a social law for the map"
   ]
  },
  {
   "cell_type": "code",
   "execution_count": 3,
   "metadata": {},
   "outputs": [
    {
     "name": "stdout",
     "output_type": "stream",
     "text": [
      "added_waitfors: set()\n",
      "disallowd actions: {('a_a', 'move', ('l_1_2', 'l_2_2')), ('a_a', 'move', ('l_1_1', 'l_1_2')), ('a_a', 'move', ('l_1_2', 'l_1_1')), ('a_b', 'move', ('l_2_2', 'l_1_2')), ('a_a', 'move', ('l_2_1', 'l_1_1')), ('a_b', 'move', ('l_1_2', 'l_2_2')), ('a_a', 'move', ('l_2_2', 'l_2_1')), ('a_b', 'move', ('l_1_2', 'l_1_1')), ('a_b', 'move', ('l_2_1', 'l_2_2'))}\n",
      "new fluents: set()\n",
      "new fluents initial vals: set()\n",
      "added action parameters: set()\n",
      "added preconditions: set()\n",
      "new objects: set()\n"
     ]
    }
   ],
   "source": [
    "from up_social_laws.synthesis import get_gbfs_social_law_generator\n",
    "\n",
    "generator = get_gbfs_social_law_generator()\n",
    "robust_sl = generator.generate_social_law(problem)\n",
    "\n",
    "print(robust_sl)"
   ]
  },
  {
   "cell_type": "markdown",
   "metadata": {},
   "source": [
    "## Let's see what the plan under the social law is"
   ]
  },
  {
   "cell_type": "code",
   "execution_count": 4,
   "metadata": {},
   "outputs": [
    {
     "name": "stdout",
     "output_type": "stream",
     "text": [
      "PlanGenerationResultStatus.SOLVED_SATISFICING\n",
      "SequentialPlan:\n",
      "    a_a.move(l_2_1, l_2_2)\n",
      "    a_b.move(l_2_2, l_2_1)\n",
      "    a_a.move(l_2_2, l_1_2)\n",
      "    a_b.move(l_2_1, l_1_1)\n"
     ]
    }
   ],
   "source": [
    "from up_social_laws.robustness_checker import SocialLawRobustnessChecker\n",
    "slrc = SocialLawRobustnessChecker()\n",
    "\n",
    "new_problem = robust_sl.compile(problem).problem\n",
    "presult = slrc.solve(new_problem)\n",
    "print(presult.status)\n",
    "print(presult.plan)"
   ]
  },
  {
   "cell_type": "markdown",
   "metadata": {},
   "source": [
    "## Now let's try a slightly bigger map"
   ]
  },
  {
   "cell_type": "code",
   "execution_count": 5,
   "metadata": {},
   "outputs": [
    {
     "name": "stdout",
     "output_type": "stream",
     "text": [
      "added_waitfors: set()\n",
      "disallowd actions: {('a_a', 'move', ('l_2_1', 'l_1_1')), ('a_b', 'move', ('l_1_3', 'l_1_2')), ('a_a', 'move', ('l_2_2', 'l_2_3')), ('a_a', 'move', ('l_1_3', 'l_1_2')), ('a_b', 'move', ('l_2_2', 'l_2_3')), ('a_b', 'move', ('l_2_3', 'l_2_2')), ('a_b', 'move', ('l_2_3', 'l_1_3')), ('a_a', 'move', ('l_1_2', 'l_1_3'))}\n",
      "new fluents: set()\n",
      "new fluents initial vals: set()\n",
      "added action parameters: set()\n",
      "added preconditions: set()\n",
      "new objects: set()\n"
     ]
    }
   ],
   "source": [
    "map = [\n",
    "\"*****\",\n",
    "\"*A b*\",\n",
    "\"*a B*\",\n",
    "\"*****\"\n",
    "]\n",
    "\n",
    "problem = mapToMaProblem(map)\n",
    "generator = get_gbfs_social_law_generator()\n",
    "robust_sl = generator.generate_social_law(problem)\n",
    "\n",
    "print(robust_sl)"
   ]
  },
  {
   "cell_type": "code",
   "execution_count": 6,
   "metadata": {},
   "outputs": [
    {
     "name": "stdout",
     "output_type": "stream",
     "text": [
      "PlanGenerationResultStatus.SOLVED_SATISFICING\n",
      "SequentialPlan:\n",
      "    a_b.move(l_1_3, l_2_3)\n",
      "    a_a.move(l_2_1, l_2_2)\n",
      "    a_a.move(l_2_2, l_1_2)\n",
      "    a_a.move(l_1_2, l_1_1)\n"
     ]
    }
   ],
   "source": [
    "new_problem = robust_sl.compile(problem).problem\n",
    "presult = slrc.solve(new_problem)\n",
    "print(presult.status)\n",
    "print(presult.plan)"
   ]
  },
  {
   "cell_type": "markdown",
   "metadata": {},
   "source": [
    "## And now an even larger map"
   ]
  },
  {
   "cell_type": "code",
   "execution_count": 7,
   "metadata": {},
   "outputs": [
    {
     "ename": "KeyboardInterrupt",
     "evalue": "",
     "output_type": "error",
     "traceback": [
      "\u001b[0;31m---------------------------------------------------------------------------\u001b[0m",
      "\u001b[0;31mKeyboardInterrupt\u001b[0m                         Traceback (most recent call last)",
      "Cell \u001b[0;32mIn[7], line 11\u001b[0m\n\u001b[1;32m      9\u001b[0m problem \u001b[39m=\u001b[39m mapToMaProblem(large_map)\n\u001b[1;32m     10\u001b[0m generator \u001b[39m=\u001b[39m get_gbfs_social_law_generator()\n\u001b[0;32m---> 11\u001b[0m robust_sl \u001b[39m=\u001b[39m generator\u001b[39m.\u001b[39;49mgenerate_social_law(problem)\n\u001b[1;32m     13\u001b[0m \u001b[39mprint\u001b[39m(robust_sl)\n",
      "File \u001b[0;32m/usr/local/lib/python3.10/dist-packages/up_social_laws-0.0.3-py3.10.egg/up_social_laws/synthesis.py:280\u001b[0m, in \u001b[0;36mSocialLawGenerator.generate_social_law\u001b[0;34m(self, initial_problem)\u001b[0m\n\u001b[1;32m    277\u001b[0m         \u001b[39mcontinue\u001b[39;00m\n\u001b[1;32m    279\u001b[0m current_problem \u001b[39m=\u001b[39m current_sl\u001b[39m.\u001b[39mcompile(initial_problem)\u001b[39m.\u001b[39mproblem\n\u001b[0;32m--> 280\u001b[0m robustness_result \u001b[39m=\u001b[39m robustness_checker\u001b[39m.\u001b[39;49mis_robust(current_problem)\n\u001b[1;32m    281\u001b[0m \u001b[39mfor\u001b[39;00m h \u001b[39min\u001b[39;00m \u001b[39mself\u001b[39m\u001b[39m.\u001b[39mall_heuristics:\n\u001b[1;32m    282\u001b[0m     h\u001b[39m.\u001b[39mreport_current_node(current_node, robustness_result)\n",
      "File \u001b[0;32m/usr/local/lib/python3.10/dist-packages/up_social_laws-0.0.3-py3.10.egg/up_social_laws/robustness_checker.py:175\u001b[0m, in \u001b[0;36mSocialLawRobustnessChecker.is_robust\u001b[0;34m(self, problem)\u001b[0m\n\u001b[1;32m    172\u001b[0m     \u001b[39mreturn\u001b[39;00m SocialLawRobustnessResult(SocialLawRobustnessStatus\u001b[39m.\u001b[39mNON_ROBUST_SINGLE_AGENT, \u001b[39mNone\u001b[39;00m, \u001b[39mNone\u001b[39;00m)\n\u001b[1;32m    174\u001b[0m \u001b[39m# Check for rational robustness\u001b[39;00m\n\u001b[0;32m--> 175\u001b[0m result \u001b[39m=\u001b[39m \u001b[39mself\u001b[39;49m\u001b[39m.\u001b[39;49mmulti_agent_robustness_counterexample(problem)        \n\u001b[1;32m    176\u001b[0m \u001b[39mif\u001b[39;00m result\u001b[39m.\u001b[39mcounter_example \u001b[39mis\u001b[39;00m \u001b[39mnot\u001b[39;00m \u001b[39mNone\u001b[39;00m:            \n\u001b[1;32m    177\u001b[0m     \u001b[39massert\u001b[39;00m(result\u001b[39m.\u001b[39mstatus \u001b[39min\u001b[39;00m [SocialLawRobustnessStatus\u001b[39m.\u001b[39mNON_ROBUST_MULTI_AGENT_FAIL, SocialLawRobustnessStatus\u001b[39m.\u001b[39mNON_ROBUST_MULTI_AGENT_DEADLOCK])\n",
      "File \u001b[0;32m/usr/local/lib/python3.10/dist-packages/up_social_laws-0.0.3-py3.10.egg/up_social_laws/robustness_checker.py:148\u001b[0m, in \u001b[0;36mSocialLawRobustnessChecker.multi_agent_robustness_counterexample\u001b[0;34m(self, problem)\u001b[0m\n\u001b[1;32m    145\u001b[0m     w\u001b[39m.\u001b[39mwrite_problem(up_social_laws\u001b[39m.\u001b[39mname_separator\u001b[39m.\u001b[39mjoin([\u001b[39mself\u001b[39m\u001b[39m.\u001b[39m_save_pddl_prefix, rbv\u001b[39m.\u001b[39mname, \u001b[39m\"\u001b[39m\u001b[39mproblem.pddl\u001b[39m\u001b[39m\"\u001b[39m]))            \n\u001b[1;32m    147\u001b[0m \u001b[39mwith\u001b[39;00m OneshotPlanner(name\u001b[39m=\u001b[39m\u001b[39mself\u001b[39m\u001b[39m.\u001b[39m_planner_name, problem_kind\u001b[39m=\u001b[39mrbv_result\u001b[39m.\u001b[39mproblem\u001b[39m.\u001b[39mkind) \u001b[39mas\u001b[39;00m planner:\n\u001b[0;32m--> 148\u001b[0m     result \u001b[39m=\u001b[39m planner\u001b[39m.\u001b[39;49msolve(rbv_result\u001b[39m.\u001b[39;49mproblem)            \n\u001b[1;32m    149\u001b[0m     \u001b[39mif\u001b[39;00m result\u001b[39m.\u001b[39mstatus \u001b[39min\u001b[39;00m unified_planning\u001b[39m.\u001b[39mengines\u001b[39m.\u001b[39mresults\u001b[39m.\u001b[39mPOSITIVE_OUTCOMES:                \n\u001b[1;32m    150\u001b[0m         \u001b[39mfor\u001b[39;00m action_occurence \u001b[39min\u001b[39;00m result\u001b[39m.\u001b[39mplan\u001b[39m.\u001b[39mactions:\n",
      "File \u001b[0;32m/usr/local/lib/python3.10/dist-packages/unified_planning-1.0.0.26.dev1-py3.10.egg/unified_planning/engines/mixins/oneshot_planner.py:80\u001b[0m, in \u001b[0;36mOneshotPlannerMixin.solve\u001b[0;34m(self, problem, heuristic, timeout, output_stream)\u001b[0m\n\u001b[1;32m     78\u001b[0m     msg \u001b[39m=\u001b[39m \u001b[39mf\u001b[39m\u001b[39m\"\u001b[39m\u001b[39mThe problem has no quality metrics but the engine is required to be optimal!\u001b[39m\u001b[39m\"\u001b[39m\n\u001b[1;32m     79\u001b[0m     \u001b[39mraise\u001b[39;00m up\u001b[39m.\u001b[39mexceptions\u001b[39m.\u001b[39mUPUsageError(msg)\n\u001b[0;32m---> 80\u001b[0m \u001b[39mreturn\u001b[39;00m \u001b[39mself\u001b[39;49m\u001b[39m.\u001b[39;49m_solve(problem, heuristic, timeout, output_stream)\n",
      "File \u001b[0;32m/usr/local/lib/python3.10/dist-packages/up_fast_downward-0.2.1-py3.10-linux-x86_64.egg/up_fast_downward/fast_downward.py:171\u001b[0m, in \u001b[0;36mFastDownwardPDDLPlanner._solve\u001b[0;34m(self, problem, heuristic, timeout, output_stream, anytime)\u001b[0m\n\u001b[1;32m    169\u001b[0m \u001b[39melse\u001b[39;00m:\n\u001b[1;32m    170\u001b[0m     \u001b[39mself\u001b[39m\u001b[39m.\u001b[39m_mode_running \u001b[39m=\u001b[39m OperationMode\u001b[39m.\u001b[39mONESHOT_PLANNER\n\u001b[0;32m--> 171\u001b[0m \u001b[39mreturn\u001b[39;00m \u001b[39msuper\u001b[39;49m()\u001b[39m.\u001b[39;49m_solve(problem, heuristic, timeout, output_stream)\n",
      "File \u001b[0;32m/usr/local/lib/python3.10/dist-packages/unified_planning-1.0.0.26.dev1-py3.10.egg/unified_planning/engines/pddl_planner.py:180\u001b[0m, in \u001b[0;36mPDDLPlanner._solve\u001b[0;34m(self, problem, heuristic, timeout, output_stream)\u001b[0m\n\u001b[1;32m    178\u001b[0m plan_filename \u001b[39m=\u001b[39m os\u001b[39m.\u001b[39mpath\u001b[39m.\u001b[39mjoin(tempdir, \u001b[39m\"\u001b[39m\u001b[39mplan.txt\u001b[39m\u001b[39m\"\u001b[39m)\n\u001b[1;32m    179\u001b[0m \u001b[39mself\u001b[39m\u001b[39m.\u001b[39m_writer\u001b[39m.\u001b[39mwrite_domain(domain_filename)\n\u001b[0;32m--> 180\u001b[0m \u001b[39mself\u001b[39;49m\u001b[39m.\u001b[39;49m_writer\u001b[39m.\u001b[39;49mwrite_problem(problem_filename)\n\u001b[1;32m    181\u001b[0m \u001b[39mif\u001b[39;00m \u001b[39mself\u001b[39m\u001b[39m.\u001b[39m_mode_running \u001b[39m==\u001b[39m OperationMode\u001b[39m.\u001b[39mONESHOT_PLANNER:\n\u001b[1;32m    182\u001b[0m     cmd \u001b[39m=\u001b[39m \u001b[39mself\u001b[39m\u001b[39m.\u001b[39m_get_cmd(domain_filename, problem_filename, plan_filename)\n",
      "File \u001b[0;32m/usr/local/lib/python3.10/dist-packages/unified_planning-1.0.0.26.dev1-py3.10.egg/unified_planning/io/pddl_writer.py:791\u001b[0m, in \u001b[0;36mPDDLWriter.write_problem\u001b[0;34m(self, filename)\u001b[0m\n\u001b[1;32m    789\u001b[0m \u001b[39m\u001b[39m\u001b[39m\"\"\"Dumps to file the `PDDL` problem.\"\"\"\u001b[39;00m\n\u001b[1;32m    790\u001b[0m \u001b[39mwith\u001b[39;00m \u001b[39mopen\u001b[39m(filename, \u001b[39m\"\u001b[39m\u001b[39mw\u001b[39m\u001b[39m\"\u001b[39m) \u001b[39mas\u001b[39;00m f:\n\u001b[0;32m--> 791\u001b[0m     \u001b[39mself\u001b[39;49m\u001b[39m.\u001b[39;49m_write_problem(f)\n",
      "File \u001b[0;32m/usr/local/lib/python3.10/dist-packages/unified_planning-1.0.0.26.dev1-py3.10.egg/unified_planning/io/pddl_writer.py:681\u001b[0m, in \u001b[0;36mPDDLWriter._write_problem\u001b[0;34m(self, out)\u001b[0m\n\u001b[1;32m    677\u001b[0m converter \u001b[39m=\u001b[39m ConverterToPDDLString(\n\u001b[1;32m    678\u001b[0m     \u001b[39mself\u001b[39m\u001b[39m.\u001b[39mproblem\u001b[39m.\u001b[39menvironment, \u001b[39mself\u001b[39m\u001b[39m.\u001b[39m_get_mangled_name\n\u001b[1;32m    679\u001b[0m )\n\u001b[1;32m    680\u001b[0m out\u001b[39m.\u001b[39mwrite(\u001b[39m\"\u001b[39m\u001b[39m (:init\u001b[39m\u001b[39m\"\u001b[39m)\n\u001b[0;32m--> 681\u001b[0m \u001b[39mfor\u001b[39;00m f, v \u001b[39min\u001b[39;00m \u001b[39mself\u001b[39;49m\u001b[39m.\u001b[39;49mproblem\u001b[39m.\u001b[39;49minitial_values\u001b[39m.\u001b[39mitems():\n\u001b[1;32m    682\u001b[0m     \u001b[39mif\u001b[39;00m v\u001b[39m.\u001b[39mis_true():\n\u001b[1;32m    683\u001b[0m         out\u001b[39m.\u001b[39mwrite(\u001b[39mf\u001b[39m\u001b[39m\"\u001b[39m\u001b[39m \u001b[39m\u001b[39m{\u001b[39;00mconverter\u001b[39m.\u001b[39mconvert(f)\u001b[39m}\u001b[39;00m\u001b[39m\"\u001b[39m)\n",
      "File \u001b[0;32m/usr/local/lib/python3.10/dist-packages/unified_planning-1.0.0.26.dev1-py3.10.egg/unified_planning/model/mixins/initial_state.py:100\u001b[0m, in \u001b[0;36mInitialStateMixin.initial_values\u001b[0;34m(self)\u001b[0m\n\u001b[1;32m     98\u001b[0m res \u001b[39m=\u001b[39m \u001b[39mself\u001b[39m\u001b[39m.\u001b[39m_initial_value\n\u001b[1;32m     99\u001b[0m \u001b[39mfor\u001b[39;00m f \u001b[39min\u001b[39;00m \u001b[39mself\u001b[39m\u001b[39m.\u001b[39m_fluent_set\u001b[39m.\u001b[39mfluents:\n\u001b[0;32m--> 100\u001b[0m     \u001b[39mfor\u001b[39;00m f_exp \u001b[39min\u001b[39;00m get_all_fluent_exp(\u001b[39mself\u001b[39m\u001b[39m.\u001b[39m_object_set, f):\n\u001b[1;32m    101\u001b[0m         res[f_exp] \u001b[39m=\u001b[39m \u001b[39mself\u001b[39m\u001b[39m.\u001b[39minitial_value(f_exp)\n\u001b[1;32m    102\u001b[0m \u001b[39mreturn\u001b[39;00m res\n",
      "File \u001b[0;32m/usr/local/lib/python3.10/dist-packages/unified_planning-1.0.0.26.dev1-py3.10.egg/unified_planning/model/fluent.py:285\u001b[0m, in \u001b[0;36mget_all_fluent_exp\u001b[0;34m(objects_set, fluent)\u001b[0m\n\u001b[1;32m    283\u001b[0m     ground_size \u001b[39m*\u001b[39m\u001b[39m=\u001b[39m ds\n\u001b[1;32m    284\u001b[0m \u001b[39mfor\u001b[39;00m i \u001b[39min\u001b[39;00m \u001b[39mrange\u001b[39m(ground_size):\n\u001b[0;32m--> 285\u001b[0m     \u001b[39myield\u001b[39;00m get_ith_fluent_exp(objects_set, fluent, domain_sizes, i)\n",
      "File \u001b[0;32m/usr/local/lib/python3.10/dist-packages/unified_planning-1.0.0.26.dev1-py3.10.egg/unified_planning/model/fluent.py:266\u001b[0m, in \u001b[0;36mget_ith_fluent_exp\u001b[0;34m(objects_set, fluent, domain_sizes, idx)\u001b[0m\n\u001b[1;32m    264\u001b[0m     rem \u001b[39m=\u001b[39m quot \u001b[39m%\u001b[39m ds\n\u001b[1;32m    265\u001b[0m     quot \u001b[39m/\u001b[39m\u001b[39m/\u001b[39m\u001b[39m=\u001b[39m ds\n\u001b[0;32m--> 266\u001b[0m     v \u001b[39m=\u001b[39m domain_item(objects_set, p\u001b[39m.\u001b[39;49mtype, rem)\n\u001b[1;32m    267\u001b[0m     actual_parameters\u001b[39m.\u001b[39mappend(v)\n\u001b[1;32m    268\u001b[0m \u001b[39mreturn\u001b[39;00m fluent(\u001b[39m*\u001b[39mactual_parameters)\n",
      "File \u001b[0;32m/usr/local/lib/python3.10/dist-packages/unified_planning-1.0.0.26.dev1-py3.10.egg/unified_planning/model/types.py:276\u001b[0m, in \u001b[0;36mdomain_item\u001b[0;34m(objects_set, typename, idx)\u001b[0m\n\u001b[1;32m    273\u001b[0m     \u001b[39mreturn\u001b[39;00m objects_set\u001b[39m.\u001b[39menvironment\u001b[39m.\u001b[39mexpression_manager\u001b[39m.\u001b[39mBool(idx \u001b[39m==\u001b[39m \u001b[39m0\u001b[39m)\n\u001b[1;32m    274\u001b[0m \u001b[39melif\u001b[39;00m typename\u001b[39m.\u001b[39mis_user_type():\n\u001b[1;32m    275\u001b[0m     \u001b[39mreturn\u001b[39;00m objects_set\u001b[39m.\u001b[39menvironment\u001b[39m.\u001b[39mexpression_manager\u001b[39m.\u001b[39mObjectExp(\n\u001b[0;32m--> 276\u001b[0m         \u001b[39mlist\u001b[39;49m(objects_set\u001b[39m.\u001b[39;49mobjects(typename))[idx]\n\u001b[1;32m    277\u001b[0m     )\n\u001b[1;32m    278\u001b[0m \u001b[39melif\u001b[39;00m typename\u001b[39m.\u001b[39mis_int_type():\n\u001b[1;32m    279\u001b[0m     typename \u001b[39m=\u001b[39m cast(_IntType, typename)\n",
      "File \u001b[0;32m/usr/local/lib/python3.10/dist-packages/unified_planning-1.0.0.26.dev1-py3.10.egg/unified_planning/model/mixins/objects_set.py:134\u001b[0m, in \u001b[0;36mObjectsSetMixin.objects\u001b[0;34m(self, typename)\u001b[0m\n\u001b[1;32m    125\u001b[0m \u001b[39m\u001b[39m\u001b[39m\"\"\"\u001b[39;00m\n\u001b[1;32m    126\u001b[0m \u001b[39mReturns the `objects` compatible with the given `Type`: this includes the given\u001b[39;00m\n\u001b[1;32m    127\u001b[0m \u001b[39m`type` and its heirs.\u001b[39;00m\n\u001b[0;32m   (...)\u001b[0m\n\u001b[1;32m    131\u001b[0m \u001b[39m    given `type`.\u001b[39;00m\n\u001b[1;32m    132\u001b[0m \u001b[39m\"\"\"\u001b[39;00m\n\u001b[1;32m    133\u001b[0m \u001b[39mfor\u001b[39;00m obj \u001b[39min\u001b[39;00m \u001b[39mself\u001b[39m\u001b[39m.\u001b[39m_objects:\n\u001b[0;32m--> 134\u001b[0m     \u001b[39mif\u001b[39;00m cast(_UserType, obj\u001b[39m.\u001b[39;49mtype)\u001b[39m.\u001b[39;49mis_subtype(typename):\n\u001b[1;32m    135\u001b[0m         \u001b[39myield\u001b[39;00m obj\n",
      "\u001b[0;31mKeyboardInterrupt\u001b[0m: "
     ]
    }
   ],
   "source": [
    "large_map = [\n",
    "\"**************\",\n",
    "\"* B        A *\",\n",
    "\"*  *******   *\",\n",
    "\"* a        b *\",\n",
    "\"**************\"\n",
    "]\n",
    "\n",
    "problem = mapToMaProblem(large_map)\n",
    "generator = get_gbfs_social_law_generator()\n",
    "robust_sl = generator.generate_social_law(problem)\n",
    "\n",
    "print(robust_sl)"
   ]
  },
  {
   "cell_type": "code",
   "execution_count": null,
   "metadata": {},
   "outputs": [],
   "source": [
    "new_problem = robust_sl.compile(problem).problem\n",
    "presult = slrc.solve(new_problem)\n",
    "print(presult.status)\n",
    "print(presult.plan)"
   ]
  },
  {
   "cell_type": "markdown",
   "metadata": {},
   "source": [
    "## Analysis\n",
    "\n",
    "The larger map is not solved in a reasonable amount of time.\n",
    "\n",
    "As the original paper on social laws in planning [1] suggests, incorporating the FF planners as well a strong unsolvability planner should help improve this.\n",
    "\n",
    "[1] Automated Verification of Social Law Robustness in STRIPS\n",
    "Erez Karpas, Alexander Shleyfman, and Moshe Tennenholtz\n",
    "ICAPS 2017"
   ]
  }
 ],
 "metadata": {
  "kernelspec": {
   "display_name": "Python 3 (ipykernel)",
   "language": "python",
   "name": "python3"
  },
  "language_info": {
   "codemirror_mode": {
    "name": "ipython",
    "version": 3
   },
   "file_extension": ".py",
   "mimetype": "text/x-python",
   "name": "python",
   "nbconvert_exporter": "python",
   "pygments_lexer": "ipython3",
   "version": "3.10.6"
  }
 },
 "nbformat": 4,
 "nbformat_minor": 2
}
